{
 "cells": [
  {
   "cell_type": "code",
   "execution_count": null,
   "id": "2ba3d07c",
   "metadata": {},
   "outputs": [],
   "source": [
    "from scipy.stats import binom\n",
    "import matplotlib.pyplot as plt\n",
    "from pprint import pprint\n",
    "import matplotlib.pyplot as plt\n",
    "import seaborn as sns\n",
    "import numpy as np\n",
    "import pandas as pd\n",
    "import random\n",
    "import statistics"
   ]
  },
  {
   "cell_type": "code",
   "execution_count": null,
   "id": "c6c72058",
   "metadata": {},
   "outputs": [],
   "source": [
    "df = pd.read_csv('attribution_data.csv')\n",
    "df"
   ]
  },
  {
   "cell_type": "code",
   "execution_count": null,
   "id": "7a87718f",
   "metadata": {},
   "outputs": [],
   "source": [
    "df.info()"
   ]
  },
  {
   "cell_type": "code",
   "execution_count": null,
   "id": "17b52995",
   "metadata": {},
   "outputs": [],
   "source": [
    "#First Touch\n",
    "temp = df[df['conversion'] == 1]\n",
    "first_touch = pd.DataFrame(df.groupby('cookie').first(), index=df['cookie'])\n",
    "cookie_index = list(temp['cookie'])\n",
    "first_touch_inter = first_touch.loc[cookie_index]\n",
    "first_touch_final = pd.DataFrame(round(first_touch_inter['channel'].value_counts(normalize= True) * 100, 2))\n",
    "first_touch_final.columns = ['Weightage(%)']\n",
    "first_touch_final"
   ]
  },
  {
   "cell_type": "code",
   "execution_count": null,
   "id": "c1724984",
   "metadata": {},
   "outputs": [],
   "source": [
    "# Set the figure size for the plot\n",
    "plt.subplots(figsize=(18, 6))\n",
    "\n",
    "# Create a bar plot using Seaborn\n",
    "ax = sns.barplot(y='Weightage(%)', x=first_touch_final.index, data=first_touch_final, color='skyblue')\n",
    "ax.bar_label(ax.containers[0], fontsize=10)\n",
    "\n",
    "# Display the plot\n",
    "plt.show()"
   ]
  },
  {
   "cell_type": "code",
   "execution_count": null,
   "id": "a92180e3",
   "metadata": {},
   "outputs": [],
   "source": [
    "#Last Touch\n",
    "last_touch_final = pd.DataFrame(round(temp['channel'].value_counts(normalize=True) * 100, 2))\n",
    "last_touch_final.columns = ['Weightage(%)']\n",
    "last_touch_final"
   ]
  },
  {
   "cell_type": "code",
   "execution_count": null,
   "id": "114c38b6",
   "metadata": {},
   "outputs": [],
   "source": [
    "# Set the figure size for the plot\n",
    "plt.subplots(figsize=(18, 6))\n",
    "\n",
    "# Create a bar plot using Seaborn\n",
    "ax = sns.barplot(y='Weightage(%)', x=last_touch_final.index, data=last_touch_final, color='skyblue')\n",
    "ax.bar_label(ax.containers[0], fontsize=10)\n",
    "\n",
    "# Display the plot\n",
    "plt.show()"
   ]
  },
  {
   "cell_type": "code",
   "execution_count": null,
   "id": "72949cc4",
   "metadata": {},
   "outputs": [],
   "source": [
    "from collections import Counter\n",
    "\n",
    "def transition_states(list_of_paths):\n",
    "\n",
    "    transitions = Counter()\n",
    "    for path in list_of_paths:\n",
    "        transitions.update(f\"{path[i]}>{path[i+1]}\" for i in range(len(path) - 1))\n",
    "    return dict(transitions)"
   ]
  },
  {
   "cell_type": "code",
   "execution_count": null,
   "id": "b1ea8ac9",
   "metadata": {},
   "outputs": [],
   "source": [
    "from collections import defaultdict\n",
    "\n",
    "def transition_prob(trans_dict, list_of_paths):\n",
    "    # Create a set of unique channels from all user paths\n",
    "    list_of_unique_channels = set(x for element in list_of_paths for x in element)\n",
    "\n",
    "    # Initialize a defaultdict to store transition probabilities\n",
    "    trans_prob = defaultdict(dict)\n",
    "\n",
    "    for state in list_of_unique_channels:\n",
    "        if state not in ['Conversion', 'Null']:\n",
    "            counter = 0\n",
    "            index = [i for i, s in enumerate(trans_dict) if state + '>' in s]\n",
    "\n",
    "            for col in index:\n",
    "                if trans_dict[list(trans_dict)[col]] > 0:\n",
    "                    counter += trans_dict[list(trans_dict)[col]]\n",
    "\n",
    "            for col in index:\n",
    "                if trans_dict[list(trans_dict)[col]] > 0:\n",
    "                    state_prob = float((trans_dict[list(trans_dict)[col]])) / float(counter)\n",
    "                    trans_prob[list(trans_dict)[col]] = state_prob\n",
    "\n",
    "    return trans_prob\n"
   ]
  },
  {
   "cell_type": "code",
   "execution_count": null,
   "id": "af4b7fe9",
   "metadata": {},
   "outputs": [],
   "source": [
    "def transition_matrix(list_of_paths, transition_probabilities):\n",
    "    # Create an empty transition matrix as a DataFrame\n",
    "    trans_matrix = pd.DataFrame()\n",
    "    \n",
    "    # Create a set of unique channels from all user paths\n",
    "    list_of_unique_channels = set(x for element in list_of_paths for x in element)\n",
    "\n",
    "    # Initialize the transition matrix with zeros\n",
    "    for channel in list_of_unique_channels:\n",
    "        trans_matrix[channel] = 0.00\n",
    "        trans_matrix.loc[channel] = 0.00\n",
    "        trans_matrix.loc[channel][channel] = 1.0 if channel in ['Conversion', 'Null'] else 0.0\n",
    "\n",
    "    # Fill the transition matrix with transition probabilities\n",
    "    for key, value in transition_probabilities.items():\n",
    "        origin, destination = key.split('>')\n",
    "        trans_matrix.at[origin, destination] = value\n",
    "\n",
    "    return trans_matrix"
   ]
  },
  {
   "cell_type": "code",
   "execution_count": null,
   "id": "a1715d97",
   "metadata": {},
   "outputs": [],
   "source": [
    "def removal_effects(dt, conversion_rate):\n",
    "    # Calculate the effect of removing each channel\n",
    "    removal_effects_dict = {}\n",
    "    channels = [channel for channel in dt.columns if channel not in ['Start', 'Null', 'Conversion']]\n",
    "    \n",
    "    for channel in channels:\n",
    "        # Create a DataFrame with the channel removed\n",
    "        removal_dt = dt.drop(channel, axis=1).drop(channel, axis=0)\n",
    "        \n",
    "        # Calculate the row sums and null percentages\n",
    "        for column in removal_dt.columns:\n",
    "            row_sum = np.sum(list(removal_dt.loc[column]))\n",
    "            null_pct = float(1) - row_sum\n",
    "            if null_pct != 0:\n",
    "                removal_dt.loc[column]['Null'] = null_pct\n",
    "            removal_dt.loc['Null']['Null'] = 1.0\n",
    "\n",
    "        # Separate data for conversion and non-conversion\n",
    "        removal_to_conv = removal_dt[['Null', 'Conversion']].drop(['Null', 'Conversion'], axis=0)\n",
    "        removal_to_non_conv = removal_dt.drop(['Null', 'Conversion'], axis=1).drop(['Null', 'Conversion'], axis=0)\n",
    "\n",
    "        # Calculate the inverse difference\n",
    "        removal_inv_diff = np.linalg.inv(np.identity(len(removal_to_non_conv.columns)) - np.asarray(removal_to_non_conv))\n",
    "        \n",
    "        # Calculate the dot product\n",
    "        removal_dot_prod = np.dot(removal_inv_diff, np.asarray(removal_to_conv))\n",
    "        \n",
    "        # Calculate the conversion rate\n",
    "        removal_cvr = pd.DataFrame(removal_dot_prod, index=removal_to_conv.index)[[1]].loc['Start'].values[0]\n",
    "        \n",
    "        # Calculate the removal effect\n",
    "        removal_effect = 1 - removal_cvr / conversion_rate\n",
    "        removal_effects_dict[channel] = removal_effect\n",
    "\n",
    "    return removal_effects_dict\n"
   ]
  },
  {
   "cell_type": "code",
   "execution_count": null,
   "id": "d0a51aa1",
   "metadata": {},
   "outputs": [],
   "source": [
    "def markov_chain_allocations(removal_effects, total_conversions):\n",
    "    # Calculate the sum of removal effects\n",
    "    re_sum = np.sum(list(removal_effects.values()))\n",
    "    \n",
    "    # Calculate allocations using removal effects and total conversions\n",
    "    allocations = {k: (v / re_sum) * total_conversions for k, v in removal_effects.items()}\n",
    "    \n",
    "    return allocations"
   ]
  },
  {
   "cell_type": "code",
   "execution_count": null,
   "id": "2a7faea5",
   "metadata": {},
   "outputs": [],
   "source": [
    "def markov_model(df, conv_col, channel_col, user_id):\n",
    "    \n",
    "    pd.options.mode.chained_assignment = None \n",
    "    df = df.sort_values(user_id)\n",
    "    df['visit_order'] = df.groupby(user_id).cumcount() + 1\n",
    "\n",
    "    df_paths = df.groupby(user_id)[channel_col].aggregate(lambda x: x.unique().tolist()).reset_index()\n",
    "    df_last_interaction = df.drop_duplicates(user_id, keep='last')[[user_id, conv_col]]\n",
    "    df_paths = pd.merge(df_paths, df_last_interaction, how='left', on=user_id)\n",
    "\n",
    "    df_paths['start'] = [[\"Start\"] for i in range(len(df_paths[conv_col]))]\n",
    "    df_paths['buff'] = [[\"Conversion\"] for i in range(len(df_paths[conv_col]))]\n",
    "    df_paths['null'] = [[\"Null\"] for i in range(len(df_paths[conv_col]))]\n",
    "\n",
    "\n",
    "    df_paths['path'] = np.where(df_paths[conv_col] == 0, df_paths['start'] + df_paths[channel_col] + df_paths['null'], df_paths['start'] + df_paths[channel_col] + df_paths['buff'])\n",
    "    df_paths = df_paths[[user_id, 'path']]\n",
    "\n",
    "    list_of_paths = df_paths['path']\n",
    "    total_conversions = df_paths['path'].apply(lambda s: s.count('Conversion')).sum()\n",
    "    base_conversion_rate = total_conversions / len(list_of_paths)\n",
    "\n",
    "    trans_states = transition_states(list_of_paths)\n",
    "    trans_prob = transition_prob(trans_states, list_of_paths)\n",
    "    trans_matrix = transition_matrix(list_of_paths, trans_prob)\n",
    "    removal_effects_dict = removal_effects(trans_matrix, base_conversion_rate)    #Creating a dictionary of the removal effect\n",
    "    \n",
    "    print(\"Removal Effects by Channel:\")\n",
    "    for k, v in sorted(removal_effects_dict.items(), key=lambda x: x[1]):\n",
    "        print(f\"{k}: {v:.4f}\")\n",
    "    \n",
    "    Least_impact_channel = min(removal_effects_dict, key=removal_effects_dict.get)\n",
    "    most_impact_channel = max(removal_effects_dict, key=removal_effects_dict.get)\n",
    "\n",
    "    print(Least_impact_channel)\n",
    "    print(most_impact_channel)\n",
    "    \n",
    "    attributions = markov_chain_allocations(removal_effects_dict, total_conversions)    #Allocating markov chains\n",
    "    res_markov=pd.DataFrame(attributions.values(),index=attributions.keys())\n",
    "    res_markov.columns=['weightage']\n",
    "    sum=res_markov['weightage'].sum()\n",
    "    res_markov['Weightage(%)']=res_markov.apply(lambda x: round((x['weightage']/sum)*100,2),axis=1)\n",
    "    res_markov.drop(['weightage'], axis=1,inplace=True)\n",
    "    res_markov=res_markov.sort_index()\n",
    "    return res_markov  "
   ]
  },
  {
   "cell_type": "code",
   "execution_count": null,
   "id": "096025d9",
   "metadata": {},
   "outputs": [],
   "source": [
    "markov = markov_model(df, 'conversion', 'channel', 'cookie')\n",
    "markov = markov.sort_values(by='Weightage(%)', ascending=False)"
   ]
  },
  {
   "cell_type": "code",
   "execution_count": null,
   "id": "e970ab63",
   "metadata": {},
   "outputs": [],
   "source": [
    "# Set the figure size for the plot\n",
    "plt.subplots(figsize=(18, 6))\n",
    "\n",
    "# Create a bar plot using Seaborn\n",
    "ax = sns.barplot(y='Weightage(%)', x=markov.index, data=markov, color='skyblue')\n",
    "ax.bar_label(ax.containers[0], fontsize=10)\n",
    "\n",
    "# Display the plot\n",
    "plt.show()"
   ]
  },
  {
   "cell_type": "code",
   "execution_count": null,
   "id": "5d581e08",
   "metadata": {},
   "outputs": [],
   "source": []
  }
 ],
 "metadata": {
  "kernelspec": {
   "display_name": "Python 3 (ipykernel)",
   "language": "python",
   "name": "python3"
  },
  "language_info": {
   "codemirror_mode": {
    "name": "ipython",
    "version": 3
   },
   "file_extension": ".py",
   "mimetype": "text/x-python",
   "name": "python",
   "nbconvert_exporter": "python",
   "pygments_lexer": "ipython3",
   "version": "3.9.13"
  }
 },
 "nbformat": 4,
 "nbformat_minor": 5
}
